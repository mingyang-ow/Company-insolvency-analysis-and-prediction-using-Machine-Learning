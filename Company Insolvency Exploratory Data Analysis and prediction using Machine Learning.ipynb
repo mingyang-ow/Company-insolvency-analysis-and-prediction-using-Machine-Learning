{
 "cells": [
  {
   "cell_type": "code",
   "execution_count": 10,
   "metadata": {},
   "outputs": [],
   "source": [
    "import pandas as pd\n",
    "from sklearn.model_selection import train_test_split\n",
    "from sklearn.dummy import DummyClassifier\n",
    "from sklearn.linear_model import LogisticRegression\n",
    "from sklearn.ensemble import RandomForestClassifier\n",
    "from sklearn.ensemble import GradientBoostingClassifier\n",
    "from sklearn.metrics import f1_score\n",
    "from sklearn.metrics import confusion_matrix\n",
    "from sklearn.metrics import classification_report\n",
    "from imblearn.over_sampling import SMOTE\n",
    "from imblearn.over_sampling import ADASYN\n",
    "from imblearn.combine import SMOTEENN\n",
    "from imblearn.combine import SMOTETomek"
   ]
  },
  {
   "cell_type": "code",
   "execution_count": 11,
   "metadata": {},
   "outputs": [],
   "source": [
    "df = pd.read_csv('/Users/Bren/Coding/Bankruptcy prediction/TEJ updated2.csv')\n",
    "pd.set_option('display.max_columns', None)"
   ]
  },
  {
   "cell_type": "code",
   "execution_count": 12,
   "metadata": {},
   "outputs": [],
   "source": [
    "independant = df.drop([\"Flag\"], axis=1)\n",
    "dependant = df[\"Flag\"]\n",
    "y = dependant\n",
    "X = independant\n",
    "X_train, X_test, y_train, y_test = train_test_split(X, y,test_size=0.2)"
   ]
  },
  {
   "cell_type": "code",
   "execution_count": 13,
   "metadata": {},
   "outputs": [
    {
     "data": {
      "text/plain": [
       "((1364, 95), (5455, 95), (1364,), (5455,), (1364,), (10576, 95), (10576,))"
      ]
     },
     "execution_count": 13,
     "metadata": {},
     "output_type": "execute_result"
    }
   ],
   "source": [
    "sm = SMOTETomek(random_state=42)\n",
    "X_res, y_res = sm.fit_resample(X_train, y_train)\n",
    "\n",
    "dummy_model = DummyClassifier(random_state=11)\n",
    "dummy_model.fit(X_res, y_res)\n",
    "dy_pred = dummy_model.predict(X_test)\n",
    "\n",
    "\n",
    "X_test.shape, X_train.shape , y_test.shape, y_train.shape , dy_pred.shape, X_res.shape , y_res.shape"
   ]
  },
  {
   "cell_type": "code",
   "execution_count": 14,
   "metadata": {},
   "outputs": [
    {
     "name": "stdout",
     "output_type": "stream",
     "text": [
      "0.4900934579439252\n",
      "[[1311    0]\n",
      " [  53    0]]\n",
      "              precision    recall  f1-score   support\n",
      "\n",
      "           0       0.96      1.00      0.98      1311\n",
      "           1       1.00      0.00      0.00        53\n",
      "\n",
      "    accuracy                           0.96      1364\n",
      "   macro avg       0.98      0.50      0.49      1364\n",
      "weighted avg       0.96      0.96      0.94      1364\n",
      "\n"
     ]
    }
   ],
   "source": [
    "f1score = f1_score(y_test, dy_pred, average='macro')\n",
    "print(f1score)\n",
    "\n",
    "c_matrix = confusion_matrix(y_test, dy_pred)\n",
    "print(c_matrix)\n",
    "\n",
    "print(classification_report(y_pred = dy_pred, y_true = y_test, zero_division = 1))"
   ]
  },
  {
   "cell_type": "code",
   "execution_count": 15,
   "metadata": {},
   "outputs": [
    {
     "name": "stdout",
     "output_type": "stream",
     "text": [
      "0.6440206493994234\n",
      "[[1155  156]\n",
      " [   8   45]]\n"
     ]
    }
   ],
   "source": [
    "logisticclf = LogisticRegression(random_state=0, max_iter = 7600).fit(X_res,y_res)\n",
    "lr_pred = logisticclf.predict(X_test)\n",
    "f1score = f1_score(y_test, lr_pred, average='macro')\n",
    "print(f1score)\n",
    "lrcm = confusion_matrix(y_test, lr_pred)\n",
    "print(lrcm)"
   ]
  },
  {
   "cell_type": "code",
   "execution_count": 16,
   "metadata": {},
   "outputs": [
    {
     "name": "stdout",
     "output_type": "stream",
     "text": [
      "0.622564935064935\n",
      "[[1142  169]\n",
      " [  11   42]]\n",
      "              precision    recall  f1-score   support\n",
      "\n",
      "           0       0.99      0.87      0.93      1311\n",
      "           1       0.20      0.79      0.32        53\n",
      "\n",
      "    accuracy                           0.87      1364\n",
      "   macro avg       0.59      0.83      0.62      1364\n",
      "weighted avg       0.96      0.87      0.90      1364\n",
      "\n"
     ]
    }
   ],
   "source": [
    "rcf = RandomForestClassifier(max_depth=2, random_state=0)\n",
    "rcf.fit(X_res,y_res)\n",
    "rcf_pred = rcf.predict(X_test)\n",
    "f1score = f1_score(y_test, rcf_pred, average='macro')\n",
    "print(f1score)\n",
    "\n",
    "c_matrix = confusion_matrix(y_test, rcf_pred)\n",
    "print(c_matrix)\n",
    "print(classification_report(y_pred = rcf_pred, y_true = y_test, zero_division = 1))"
   ]
  },
  {
   "cell_type": "code",
   "execution_count": 17,
   "metadata": {},
   "outputs": [
    {
     "name": "stdout",
     "output_type": "stream",
     "text": [
      "0.6490879982231929\n",
      "[[1187  124]\n",
      " [  15   38]]\n",
      "              precision    recall  f1-score   support\n",
      "\n",
      "           0       0.99      0.91      0.94      1311\n",
      "           1       0.23      0.72      0.35        53\n",
      "\n",
      "    accuracy                           0.90      1364\n",
      "   macro avg       0.61      0.81      0.65      1364\n",
      "weighted avg       0.96      0.90      0.92      1364\n",
      "\n"
     ]
    }
   ],
   "source": [
    "gbc = GradientBoostingClassifier(n_estimators=100 ,learning_rate=1.0 ,max_depth=1 ,random_state=0 ).fit(X_res,y_res)\n",
    "gbc.fit(X_res,y_res)\n",
    "gbc_pred = gbc.predict(X_test)\n",
    "f1score = f1_score(y_test, gbc_pred, average='macro')\n",
    "print(f1score)\n",
    "\n",
    "c_matrix = confusion_matrix(y_test, gbc_pred)\n",
    "print(c_matrix)\n",
    "print(classification_report(y_pred = gbc_pred, y_true = y_test, zero_division = 1))"
   ]
  },
  {
   "cell_type": "code",
   "execution_count": 18,
   "metadata": {},
   "outputs": [
    {
     "data": {
      "text/html": [
       "<div>\n",
       "<style scoped>\n",
       "    .dataframe tbody tr th:only-of-type {\n",
       "        vertical-align: middle;\n",
       "    }\n",
       "\n",
       "    .dataframe tbody tr th {\n",
       "        vertical-align: top;\n",
       "    }\n",
       "\n",
       "    .dataframe thead th {\n",
       "        text-align: right;\n",
       "    }\n",
       "</style>\n",
       "<table border=\"1\" class=\"dataframe\">\n",
       "  <thead>\n",
       "    <tr style=\"text-align: right;\">\n",
       "      <th></th>\n",
       "      <th>column</th>\n",
       "      <th>importance</th>\n",
       "    </tr>\n",
       "  </thead>\n",
       "  <tbody>\n",
       "    <tr>\n",
       "      <th>9</th>\n",
       "      <td>Recurring Interest Rate (After Tax)</td>\n",
       "      <td>0.497390</td>\n",
       "    </tr>\n",
       "    <tr>\n",
       "      <th>48</th>\n",
       "      <td>Fixed Assets Number Of Turnovers</td>\n",
       "      <td>0.240513</td>\n",
       "    </tr>\n",
       "    <tr>\n",
       "      <th>39</th>\n",
       "      <td>Borrowing Dependence</td>\n",
       "      <td>0.152103</td>\n",
       "    </tr>\n",
       "    <tr>\n",
       "      <th>8</th>\n",
       "      <td>Industry External Income And Expenses/Revenue</td>\n",
       "      <td>0.026732</td>\n",
       "    </tr>\n",
       "    <tr>\n",
       "      <th>85</th>\n",
       "      <td>Net Income To Total Assets</td>\n",
       "      <td>0.021058</td>\n",
       "    </tr>\n",
       "    <tr>\n",
       "      <th>91</th>\n",
       "      <td>Degree Of Financial Leverage (Dfl)</td>\n",
       "      <td>0.016555</td>\n",
       "    </tr>\n",
       "    <tr>\n",
       "      <th>40</th>\n",
       "      <td>Contingent Liabilities/Net Value</td>\n",
       "      <td>0.011092</td>\n",
       "    </tr>\n",
       "    <tr>\n",
       "      <th>35</th>\n",
       "      <td>Total Liabilities/Total Net Worth</td>\n",
       "      <td>0.006793</td>\n",
       "    </tr>\n",
       "    <tr>\n",
       "      <th>46</th>\n",
       "      <td>Average Collection Days</td>\n",
       "      <td>0.005717</td>\n",
       "    </tr>\n",
       "    <tr>\n",
       "      <th>80</th>\n",
       "      <td>Cash Flow To Liability</td>\n",
       "      <td>0.005684</td>\n",
       "    </tr>\n",
       "    <tr>\n",
       "      <th>13</th>\n",
       "      <td>Interest-Bearing Debt Rate</td>\n",
       "      <td>0.004639</td>\n",
       "    </tr>\n",
       "    <tr>\n",
       "      <th>61</th>\n",
       "      <td>Inventory/Working Capital</td>\n",
       "      <td>0.003081</td>\n",
       "    </tr>\n",
       "    <tr>\n",
       "      <th>52</th>\n",
       "      <td>Staffing Rate Per Person</td>\n",
       "      <td>0.003038</td>\n",
       "    </tr>\n",
       "    <tr>\n",
       "      <th>49</th>\n",
       "      <td>Net Worth Turnover Rate (Times)</td>\n",
       "      <td>0.002815</td>\n",
       "    </tr>\n",
       "    <tr>\n",
       "      <th>10</th>\n",
       "      <td>Operating Expense Rate</td>\n",
       "      <td>0.002789</td>\n",
       "    </tr>\n",
       "  </tbody>\n",
       "</table>\n",
       "</div>"
      ],
      "text/plain": [
       "                                           column  importance\n",
       "9             Recurring Interest Rate (After Tax)    0.497390\n",
       "48               Fixed Assets Number Of Turnovers    0.240513\n",
       "39                           Borrowing Dependence    0.152103\n",
       "8   Industry External Income And Expenses/Revenue    0.026732\n",
       "85                     Net Income To Total Assets    0.021058\n",
       "91             Degree Of Financial Leverage (Dfl)    0.016555\n",
       "40               Contingent Liabilities/Net Value    0.011092\n",
       "35              Total Liabilities/Total Net Worth    0.006793\n",
       "46                        Average Collection Days    0.005717\n",
       "80                         Cash Flow To Liability    0.005684\n",
       "13                     Interest-Bearing Debt Rate    0.004639\n",
       "61                      Inventory/Working Capital    0.003081\n",
       "52                       Staffing Rate Per Person    0.003038\n",
       "49                Net Worth Turnover Rate (Times)    0.002815\n",
       "10                         Operating Expense Rate    0.002789"
      ]
     },
     "execution_count": 18,
     "metadata": {},
     "output_type": "execute_result"
    }
   ],
   "source": [
    "importance = pd.DataFrame()\n",
    "importance[\"column\"] = X_train.columns\n",
    "importance[\"importance\"] = gbc.feature_importances_\n",
    "importance_sort = importance.sort_values(by = \"importance\", ascending = False)\n",
    "importance_sort.head(15)"
   ]
  },
  {
   "cell_type": "code",
   "execution_count": 19,
   "metadata": {},
   "outputs": [],
   "source": [
    "from sklearn.model_selection import GridSearchCV\n"
   ]
  },
  {
   "cell_type": "code",
   "execution_count": 29,
   "metadata": {},
   "outputs": [
    {
     "data": {
      "text/html": [
       "<style>#sk-container-id-2 {color: black;background-color: white;}#sk-container-id-2 pre{padding: 0;}#sk-container-id-2 div.sk-toggleable {background-color: white;}#sk-container-id-2 label.sk-toggleable__label {cursor: pointer;display: block;width: 100%;margin-bottom: 0;padding: 0.3em;box-sizing: border-box;text-align: center;}#sk-container-id-2 label.sk-toggleable__label-arrow:before {content: \"▸\";float: left;margin-right: 0.25em;color: #696969;}#sk-container-id-2 label.sk-toggleable__label-arrow:hover:before {color: black;}#sk-container-id-2 div.sk-estimator:hover label.sk-toggleable__label-arrow:before {color: black;}#sk-container-id-2 div.sk-toggleable__content {max-height: 0;max-width: 0;overflow: hidden;text-align: left;background-color: #f0f8ff;}#sk-container-id-2 div.sk-toggleable__content pre {margin: 0.2em;color: black;border-radius: 0.25em;background-color: #f0f8ff;}#sk-container-id-2 input.sk-toggleable__control:checked~div.sk-toggleable__content {max-height: 200px;max-width: 100%;overflow: auto;}#sk-container-id-2 input.sk-toggleable__control:checked~label.sk-toggleable__label-arrow:before {content: \"▾\";}#sk-container-id-2 div.sk-estimator input.sk-toggleable__control:checked~label.sk-toggleable__label {background-color: #d4ebff;}#sk-container-id-2 div.sk-label input.sk-toggleable__control:checked~label.sk-toggleable__label {background-color: #d4ebff;}#sk-container-id-2 input.sk-hidden--visually {border: 0;clip: rect(1px 1px 1px 1px);clip: rect(1px, 1px, 1px, 1px);height: 1px;margin: -1px;overflow: hidden;padding: 0;position: absolute;width: 1px;}#sk-container-id-2 div.sk-estimator {font-family: monospace;background-color: #f0f8ff;border: 1px dotted black;border-radius: 0.25em;box-sizing: border-box;margin-bottom: 0.5em;}#sk-container-id-2 div.sk-estimator:hover {background-color: #d4ebff;}#sk-container-id-2 div.sk-parallel-item::after {content: \"\";width: 100%;border-bottom: 1px solid gray;flex-grow: 1;}#sk-container-id-2 div.sk-label:hover label.sk-toggleable__label {background-color: #d4ebff;}#sk-container-id-2 div.sk-serial::before {content: \"\";position: absolute;border-left: 1px solid gray;box-sizing: border-box;top: 0;bottom: 0;left: 50%;z-index: 0;}#sk-container-id-2 div.sk-serial {display: flex;flex-direction: column;align-items: center;background-color: white;padding-right: 0.2em;padding-left: 0.2em;position: relative;}#sk-container-id-2 div.sk-item {position: relative;z-index: 1;}#sk-container-id-2 div.sk-parallel {display: flex;align-items: stretch;justify-content: center;background-color: white;position: relative;}#sk-container-id-2 div.sk-item::before, #sk-container-id-2 div.sk-parallel-item::before {content: \"\";position: absolute;border-left: 1px solid gray;box-sizing: border-box;top: 0;bottom: 0;left: 50%;z-index: -1;}#sk-container-id-2 div.sk-parallel-item {display: flex;flex-direction: column;z-index: 1;position: relative;background-color: white;}#sk-container-id-2 div.sk-parallel-item:first-child::after {align-self: flex-end;width: 50%;}#sk-container-id-2 div.sk-parallel-item:last-child::after {align-self: flex-start;width: 50%;}#sk-container-id-2 div.sk-parallel-item:only-child::after {width: 0;}#sk-container-id-2 div.sk-dashed-wrapped {border: 1px dashed gray;margin: 0 0.4em 0.5em 0.4em;box-sizing: border-box;padding-bottom: 0.4em;background-color: white;}#sk-container-id-2 div.sk-label label {font-family: monospace;font-weight: bold;display: inline-block;line-height: 1.2em;}#sk-container-id-2 div.sk-label-container {text-align: center;}#sk-container-id-2 div.sk-container {/* jupyter's `normalize.less` sets `[hidden] { display: none; }` but bootstrap.min.css set `[hidden] { display: none !important; }` so we also need the `!important` here to be able to override the default hidden behavior on the sphinx rendered scikit-learn.org. See: https://github.com/scikit-learn/scikit-learn/issues/21755 */display: inline-block !important;position: relative;}#sk-container-id-2 div.sk-text-repr-fallback {display: none;}</style><div id=\"sk-container-id-2\" class=\"sk-top-container\"><div class=\"sk-text-repr-fallback\"><pre>GridSearchCV(cv=5, estimator=GradientBoostingClassifier(), n_jobs=4,\n",
       "             param_grid={&#x27;max_depth&#x27;: [1, 2, 3, 4, 5],\n",
       "                         &#x27;max_features&#x27;: [9, 11, 13, 15, 17],\n",
       "                         &#x27;n_estimators&#x27;: [5, 10, 25, 50, 100]},\n",
       "             scoring=&#x27;precision&#x27;)</pre><b>In a Jupyter environment, please rerun this cell to show the HTML representation or trust the notebook. <br />On GitHub, the HTML representation is unable to render, please try loading this page with nbviewer.org.</b></div><div class=\"sk-container\" hidden><div class=\"sk-item sk-dashed-wrapped\"><div class=\"sk-label-container\"><div class=\"sk-label sk-toggleable\"><input class=\"sk-toggleable__control sk-hidden--visually\" id=\"sk-estimator-id-4\" type=\"checkbox\" ><label for=\"sk-estimator-id-4\" class=\"sk-toggleable__label sk-toggleable__label-arrow\">GridSearchCV</label><div class=\"sk-toggleable__content\"><pre>GridSearchCV(cv=5, estimator=GradientBoostingClassifier(), n_jobs=4,\n",
       "             param_grid={&#x27;max_depth&#x27;: [1, 2, 3, 4, 5],\n",
       "                         &#x27;max_features&#x27;: [9, 11, 13, 15, 17],\n",
       "                         &#x27;n_estimators&#x27;: [5, 10, 25, 50, 100]},\n",
       "             scoring=&#x27;precision&#x27;)</pre></div></div></div><div class=\"sk-parallel\"><div class=\"sk-parallel-item\"><div class=\"sk-item\"><div class=\"sk-label-container\"><div class=\"sk-label sk-toggleable\"><input class=\"sk-toggleable__control sk-hidden--visually\" id=\"sk-estimator-id-5\" type=\"checkbox\" ><label for=\"sk-estimator-id-5\" class=\"sk-toggleable__label sk-toggleable__label-arrow\">estimator: GradientBoostingClassifier</label><div class=\"sk-toggleable__content\"><pre>GradientBoostingClassifier()</pre></div></div></div><div class=\"sk-serial\"><div class=\"sk-item\"><div class=\"sk-estimator sk-toggleable\"><input class=\"sk-toggleable__control sk-hidden--visually\" id=\"sk-estimator-id-6\" type=\"checkbox\" ><label for=\"sk-estimator-id-6\" class=\"sk-toggleable__label sk-toggleable__label-arrow\">GradientBoostingClassifier</label><div class=\"sk-toggleable__content\"><pre>GradientBoostingClassifier()</pre></div></div></div></div></div></div></div></div></div></div>"
      ],
      "text/plain": [
       "GridSearchCV(cv=5, estimator=GradientBoostingClassifier(), n_jobs=4,\n",
       "             param_grid={'max_depth': [1, 2, 3, 4, 5],\n",
       "                         'max_features': [9, 11, 13, 15, 17],\n",
       "                         'n_estimators': [5, 10, 25, 50, 100]},\n",
       "             scoring='precision')"
      ]
     },
     "execution_count": 29,
     "metadata": {},
     "output_type": "execute_result"
    }
   ],
   "source": [
    "param_grid = {'n_estimators' : [5,10,25,50,100],\n",
    "              'max_depth' :  [1,2,3,4,5],\n",
    "              'max_features' : [9,11,13,15,17]\n",
    "}\n",
    "\n",
    "grid = GridSearchCV(GradientBoostingClassifier(),param_grid, scoring = \"precision\", n_jobs= 4, cv = 5)\n",
    "grid.fit(X_res,y_res)"
   ]
  },
  {
   "cell_type": "code",
   "execution_count": 30,
   "metadata": {},
   "outputs": [
    {
     "name": "stdout",
     "output_type": "stream",
     "text": [
      "{'max_depth': 5, 'max_features': 15, 'n_estimators': 100}\n"
     ]
    }
   ],
   "source": [
    "print(grid.best_params_)"
   ]
  },
  {
   "cell_type": "code",
   "execution_count": 31,
   "metadata": {},
   "outputs": [
    {
     "name": "stdout",
     "output_type": "stream",
     "text": [
      "0.7252864782276547\n",
      "[[1280   31]\n",
      " [  27   26]]\n",
      "              precision    recall  f1-score   support\n",
      "\n",
      "           0       0.98      0.98      0.98      1311\n",
      "           1       0.46      0.49      0.47        53\n",
      "\n",
      "    accuracy                           0.96      1364\n",
      "   macro avg       0.72      0.73      0.73      1364\n",
      "weighted avg       0.96      0.96      0.96      1364\n",
      "\n"
     ]
    }
   ],
   "source": [
    "gbc_best = GradientBoostingClassifier(n_estimators=100 ,learning_rate=1.0 ,max_depth=5 ,max_features= 15,random_state=0 ).fit(X_res,y_res)\n",
    "gbc_best.fit(X_res,y_res)\n",
    "gbc_best_pred = gbc_best.predict(X_test)\n",
    "f1score_best = f1_score(y_test, gbc_best_pred, average='macro')\n",
    "print(f1score_best)\n",
    "\n",
    "c_matrix_best = confusion_matrix(y_test, gbc_best_pred)\n",
    "print(c_matrix_best)\n",
    "print(classification_report(y_pred = gbc_best_pred, y_true = y_test, zero_division = 1))"
   ]
  }
 ],
 "metadata": {
  "kernelspec": {
   "display_name": "Company_ML_Test",
   "language": "python",
   "name": "python3"
  },
  "language_info": {
   "codemirror_mode": {
    "name": "ipython",
    "version": 3
   },
   "file_extension": ".py",
   "mimetype": "text/x-python",
   "name": "python",
   "nbconvert_exporter": "python",
   "pygments_lexer": "ipython3",
   "version": "3.11.5"
  },
  "orig_nbformat": 4
 },
 "nbformat": 4,
 "nbformat_minor": 2
}
